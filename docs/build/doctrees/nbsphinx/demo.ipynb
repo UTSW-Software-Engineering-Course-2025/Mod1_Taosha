{
 "cells": [
  {
   "cell_type": "markdown",
   "metadata": {},
   "source": [
    "# Command line usage"
   ]
  },
  {
   "cell_type": "code",
   "execution_count": null,
   "metadata": {},
   "outputs": [
    {
     "name": "stdout",
     "output_type": "stream",
     "text": [
      "Reading data...\n",
      "Calculating new matrix...\n",
      "choosing best beta...\n",
      "100%|██████████████████████████████████████| 2500/2500 [00:03<00:00, 798.11it/s]\n",
      "  0%|                                                   | 0/999 [00:00<?, ?it/s]/Users/gaw/utsw/software_engineering/Module_1_materials/mod1/adjustbeta.py:52: UserWarning: To copy construct from a tensor, it is recommended to use sourceTensor.detach().clone() or sourceTensor.detach().clone().requires_grad_(True), rather than torch.tensor(sourceTensor).\n",
      "  X = torch.tensor(X, dtype=torch.float32).to(device)\n",
      " 16%|██████▌                                  | 159/999 [00:05<00:31, 27.06it/s]"
     ]
    }
   ],
   "source": [
    "!python cli.py --data_name mnist2500 --method tsne --plot_savepath output/mnist2500_tsne.png"
   ]
  },
  {
   "cell_type": "markdown",
   "metadata": {},
   "source": []
  },
  {
   "cell_type": "markdown",
   "metadata": {},
   "source": []
  }
 ],
 "metadata": {
  "kernelspec": {
   "display_name": "ion",
   "language": "python",
   "name": "python3"
  },
  "language_info": {
   "codemirror_mode": {
    "name": "ipython",
    "version": 3
   },
   "file_extension": ".py",
   "mimetype": "text/x-python",
   "name": "python",
   "nbconvert_exporter": "python",
   "pygments_lexer": "ipython3",
   "version": "3.9.19"
  }
 },
 "nbformat": 4,
 "nbformat_minor": 2
}
